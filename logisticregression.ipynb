{
 "cells": [
  {
   "cell_type": "code",
   "execution_count": 2,
   "id": "d9aeda8a",
   "metadata": {},
   "outputs": [],
   "source": [
    "import numpy as np\n",
    "import pandas as pd\n",
    "import matplotlib.pyplot as plt\n",
    "%matplotlib inline\n",
    "import seaborn as sns\n",
    "import sklearn\n",
    "from sklearn.model_selection import train_test_split\n",
    "from sklearn.preprocessing import StandardScaler\n",
    "from sklearn.metrics import accuracy_score\n"
   ]
  },
  {
   "cell_type": "code",
   "execution_count": 3,
   "id": "4ce1415d",
   "metadata": {},
   "outputs": [],
   "source": [
    "class LogisticRegression() :\n",
    "      \n",
    "    def __init__( self, learning_rate, iterations):          \n",
    "        self.learning_rate = learning_rate        \n",
    "        self.iterations = iterations        \n",
    "\n",
    "          \n",
    "    # Function for model training            \n",
    "    def fit( self, X, Y) :\n",
    "          \n",
    "        # no_of_training_examples, no_of_features        \n",
    "        self.m, self.n = X.shape\n",
    "        print('no_of_training_examples, no_of_features: ',self.m, self.n ) \n",
    "        # weight initialization        \n",
    "        self.W = np.zeros(self.n)\n",
    "        #self.cost= [] \n",
    "        self.b = 0        \n",
    "        self.X = X        \n",
    "        self.Y = Y\n",
    "          \n",
    "        # gradient descent learning           \n",
    "        self.calculate_weights()\n",
    "        \n",
    "        return self\n",
    "      \n",
    "    # Helper function to update weights in gradient descent\n",
    "    def calculate_weights(self):\n",
    "        cost = []\n",
    "        for i in range(self.iterations) :\n",
    "            #Prediction\n",
    "            y_pred = self.predict1(self.X)\n",
    "\n",
    "            cost_i = (-1/self.m)*(np.sum((self.Y*np.log(y_pred)) + ((1-self.Y)*(np.log(1-y_pred)))))\n",
    "            #\n",
    "\n",
    "            #Gradient calculation\n",
    "            dw = (1/self.m)*(self.X.T.dot(y_pred- self.Y))\n",
    "            db = (1/self.m)*(np.sum(y_pred- self.Y))\n",
    "            \n",
    "            self.W = self.W - (self.learning_rate * (dw.T))\n",
    "            self.b = self.b - (self.learning_rate * (db.T))\n",
    "            cost.append(cost_i)\n",
    "            #grads = {\"dw\": dw, \"db\": db}\n",
    "            self.cost = cost\n",
    "            #return grads, cost\n",
    "        return self\n",
    "    \n",
    "    def sigmoid_activation(self, y):        \n",
    "        y_hat = 1/(1+np.exp(-y))\n",
    "        return y_hat\n",
    "    \n",
    "      \n",
    "    # Hypothetical function  h( x ) \n",
    "    def predict1(self, X) :    \n",
    "        return self.sigmoid_activation(X.dot(self.W ) + self.b)\n",
    "    \n",
    "    def predict(self, X) :\n",
    "        y_hat = self.sigmoid_activation(X.dot(self.W ) + self.b)\n",
    "        return [1 if x > 0.5 else 0 for x in y_hat ]"
   ]
  },
  {
   "cell_type": "code",
   "execution_count": 4,
   "id": "91bf0115",
   "metadata": {},
   "outputs": [],
   "source": [
    "df = pd.read_csv('data/diabetes.csv')"
   ]
  },
  {
   "cell_type": "code",
   "execution_count": null,
   "id": "c16bfce2",
   "metadata": {},
   "outputs": [],
   "source": [
    "df['BPMeds'] = df['BPMeds'].fillna(df['BPMeds'].median())\n",
    "df['totChol'] = df['totChol'].fillna(df['totChol'].median())\n",
    "df['BMI'] = df['BMI'].fillna(df['BMI'].median())\n",
    "df['heartRate'] = df['heartRate'].fillna(df['heartRate'].median())\n",
    "df['glucose'] = df['glucose'].fillna(df['glucose'].median())\n",
    "df=df.dropna()"
   ]
  },
  {
   "cell_type": "code",
   "execution_count": 5,
   "id": "630366a2",
   "metadata": {},
   "outputs": [],
   "source": [
    "X = df.iloc[:,0:-2].values\n",
    "y = df.iloc[:,-1].values"
   ]
  },
  {
   "cell_type": "code",
   "execution_count": 6,
   "id": "e05ca659",
   "metadata": {},
   "outputs": [],
   "source": [
    "X_train, X_test, y_train, y_test = train_test_split(X, y, test_size=0.3, random_state=0)"
   ]
  },
  {
   "cell_type": "code",
   "execution_count": 7,
   "id": "55850d07",
   "metadata": {},
   "outputs": [],
   "source": [
    "model = LogisticRegression( iterations = 4500,                             \n",
    "                            learning_rate = 0.0001)"
   ]
  },
  {
   "cell_type": "code",
   "execution_count": 8,
   "id": "700b5318",
   "metadata": {},
   "outputs": [
    {
     "name": "stdout",
     "output_type": "stream",
     "text": [
      "no_of_training_examples, no_of_features:  75 7\n"
     ]
    },
    {
     "data": {
      "text/plain": [
       "<__main__.LogisticRegression at 0x7f6cff14d6a0>"
      ]
     },
     "execution_count": 8,
     "metadata": {},
     "output_type": "execute_result"
    }
   ],
   "source": [
    "model.fit( X_train, y_train )"
   ]
  },
  {
   "cell_type": "code",
   "execution_count": 9,
   "id": "bef9de40",
   "metadata": {},
   "outputs": [],
   "source": [
    "y_hat = model.predict(X_test)"
   ]
  },
  {
   "cell_type": "code",
   "execution_count": 10,
   "id": "383d431d",
   "metadata": {},
   "outputs": [
    {
     "name": "stdout",
     "output_type": "stream",
     "text": [
      "Test Accuracy 0.5454545454545454\n"
     ]
    }
   ],
   "source": [
    "print('Test Accuracy',accuracy_score(y_hat, y_test))"
   ]
  },
  {
   "cell_type": "code",
   "execution_count": 11,
   "id": "3856bfab",
   "metadata": {},
   "outputs": [
    {
     "data": {
      "image/png": "[encoded data removed]",
      "text/plain": [
       "<Figure size 432x288 with 1 Axes>"
      ]
     },
     "metadata": {
      "needs_background": "light"
     },
     "output_type": "display_data"
    }
   ],
   "source": [
    "plt.plot(model.cost)\n",
    "plt.ylabel('cost')\n",
    "plt.xlabel('iterations (per hundreds)')\n",
    "plt.title('Cost reduction over time')\n",
    "plt.show()"
   ]
  },
  {
   "cell_type": "code",
   "execution_count": null,
   "id": "765a6b04",
   "metadata": {},
   "outputs": [],
   "source": []
  }
 ],
 "metadata": {
  "kernelspec": {
   "display_name": "conda_python3",
   "language": "python",
   "name": "conda_python3"
  },
  "language_info": {
   "codemirror_mode": {
    "name": "ipython",
    "version": 3
   },
   "file_extension": ".py",
   "mimetype": "text/x-python",
   "name": "python",
   "nbconvert_exporter": "python",
   "pygments_lexer": "ipython3",
   "version": "3.6.13"
  }
 },
 "nbformat": 4,
 "nbformat_minor": 5
}
